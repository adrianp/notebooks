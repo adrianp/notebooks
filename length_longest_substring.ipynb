{
 "cells": [
  {
   "cell_type": "code",
   "execution_count": 25,
   "id": "35ebd91a-123a-4f44-9c14-687d480ef890",
   "metadata": {},
   "outputs": [],
   "source": [
    "def hasRepeatingChars(s: str) -> bool:\n",
    "    check = {}\n",
    "    for c in s:\n",
    "        if c in check:\n",
    "            return True\n",
    "        check[c] = True\n",
    "    return False\n",
    "\n",
    "def lengthOfLongestSubstring(s: str) -> int:\n",
    "    windowLength = len(s)\n",
    "    while windowLength >= 0:\n",
    "        start, end = 0, windowLength\n",
    "        while end <= len(s):\n",
    "            substring = s[start:end]\n",
    "            if not hasRepeatingChars(substring):\n",
    "                return windowLength\n",
    "            start, end = start + 1, end + 1\n",
    "        windowLength -= 1"
   ]
  },
  {
   "cell_type": "code",
   "execution_count": 26,
   "id": "c12c00eb-d479-4d1c-a30a-1def52f84dfb",
   "metadata": {},
   "outputs": [],
   "source": [
    "assert lengthOfLongestSubstring(\"abcabcbb\") == 3\n",
    "assert lengthOfLongestSubstring(\"aaaabcd\") == 4\n",
    "assert lengthOfLongestSubstring(\"bbbbb\") == 1\n",
    "assert lengthOfLongestSubstring(\"pwwkew\") == 3\n",
    "assert lengthOfLongestSubstring(\"abcde\") == 5\n",
    "assert lengthOfLongestSubstring(\"\") == 0\n",
    "assert lengthOfLongestSubstring(\"@1!aă\") == 5\n",
    "assert lengthOfLongestSubstring(\"aabbcc\") == 2"
   ]
  },
  {
   "cell_type": "code",
   "execution_count": null,
   "id": "4e2258ad-d456-42ac-84cf-28666ee02995",
   "metadata": {},
   "outputs": [],
   "source": []
  },
  {
   "cell_type": "code",
   "execution_count": null,
   "id": "6571cc44-7557-4d79-9e74-fc85e6dbe80e",
   "metadata": {},
   "outputs": [],
   "source": []
  }
 ],
 "metadata": {
  "kernelspec": {
   "display_name": "Python 3 (ipykernel)",
   "language": "python",
   "name": "python3"
  },
  "language_info": {
   "codemirror_mode": {
    "name": "ipython",
    "version": 3
   },
   "file_extension": ".py",
   "mimetype": "text/x-python",
   "name": "python",
   "nbconvert_exporter": "python",
   "pygments_lexer": "ipython3",
   "version": "3.7.10"
  }
 },
 "nbformat": 4,
 "nbformat_minor": 5
}
