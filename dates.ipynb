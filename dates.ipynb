{
 "cells": [
  {
   "cell_type": "code",
   "execution_count": 20,
   "id": "332b4e7e",
   "metadata": {},
   "outputs": [],
   "source": [
    "from datetime import timedelta\n",
    "from dateutil import parser"
   ]
  },
  {
   "cell_type": "code",
   "execution_count": 21,
   "id": "9c573006",
   "metadata": {},
   "outputs": [],
   "source": [
    "start_date = parser.parse(\"2020-01-01\")"
   ]
  },
  {
   "cell_type": "code",
   "execution_count": 22,
   "id": "be12159e",
   "metadata": {},
   "outputs": [],
   "source": [
    "end_date = parser.parse(\"2020-12-01\")"
   ]
  },
  {
   "cell_type": "code",
   "execution_count": 23,
   "id": "c13b6208",
   "metadata": {},
   "outputs": [
    {
     "name": "stdout",
     "output_type": "stream",
     "text": [
      "Doing some task for data before 2020-01-16 00:00:00\n",
      "Doing some task for data before 2020-01-31 00:00:00\n",
      "Doing some task for data before 2020-02-15 00:00:00\n",
      "Doing some task for data before 2020-03-01 00:00:00\n",
      "Doing some task for data before 2020-03-16 00:00:00\n",
      "Doing some task for data before 2020-03-31 00:00:00\n",
      "Doing some task for data before 2020-04-15 00:00:00\n",
      "Doing some task for data before 2020-04-30 00:00:00\n",
      "Doing some task for data before 2020-05-15 00:00:00\n",
      "Doing some task for data before 2020-05-30 00:00:00\n",
      "Doing some task for data before 2020-06-14 00:00:00\n",
      "Doing some task for data before 2020-06-29 00:00:00\n",
      "Doing some task for data before 2020-07-14 00:00:00\n",
      "Doing some task for data before 2020-07-29 00:00:00\n",
      "Doing some task for data before 2020-08-13 00:00:00\n",
      "Doing some task for data before 2020-08-28 00:00:00\n",
      "Doing some task for data before 2020-09-12 00:00:00\n",
      "Doing some task for data before 2020-09-27 00:00:00\n",
      "Doing some task for data before 2020-10-12 00:00:00\n",
      "Doing some task for data before 2020-10-27 00:00:00\n",
      "Doing some task for data before 2020-11-11 00:00:00\n",
      "Doing some task for data before 2020-11-26 00:00:00\n",
      "Doing some task for data before 2020-12-01 00:00:00\n"
     ]
    }
   ],
   "source": [
    "while True:\n",
    "    \n",
    "    start_date = start_date + timedelta(days=15)\n",
    "    if start_date > end_date:\n",
    "        start_date = end_date\n",
    "    print(f\"Doing some task for data before {start_date}\")\n",
    "    if start_date >= end_date:\n",
    "        break\n",
    "    \n",
    "    "
   ]
  },
  {
   "cell_type": "code",
   "execution_count": null,
   "id": "47eec294",
   "metadata": {},
   "outputs": [],
   "source": []
  }
 ],
 "metadata": {
  "kernelspec": {
   "display_name": "Python 3 (ipykernel)",
   "language": "python",
   "name": "python3"
  },
  "language_info": {
   "codemirror_mode": {
    "name": "ipython",
    "version": 3
   },
   "file_extension": ".py",
   "mimetype": "text/x-python",
   "name": "python",
   "nbconvert_exporter": "python",
   "pygments_lexer": "ipython3",
   "version": "3.7.10"
  }
 },
 "nbformat": 4,
 "nbformat_minor": 5
}
