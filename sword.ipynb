{
 "cells": [
  {
   "cell_type": "markdown",
   "id": "cce188da-a881-4bbb-b94d-e150358acced",
   "metadata": {},
   "source": [
    "###### Simple script to send a file via the [SWORD](https://en.wikipedia.org/wiki/SWORD_(protocol)) protocol."
   ]
  },
  {
   "cell_type": "code",
   "execution_count": null,
   "id": "b33ab477-69cb-4d34-91d2-16f1d2c114c2",
   "metadata": {},
   "outputs": [],
   "source": [
    "import base64\n",
    "import hashlib\n",
    "import logging\n",
    "import os\n",
    "import urllib\n",
    "import xml.etree.ElementTree as ET"
   ]
  },
  {
   "cell_type": "code",
   "execution_count": null,
   "id": "f2e6800a-e873-454f-805b-43eaef0cf13d",
   "metadata": {},
   "outputs": [],
   "source": [
    "path = \"\"\n",
    "authorization = \"\"\n",
    "username = \"\"\n",
    "password = \"\"\n",
    "url = \"\""
   ]
  },
  {
   "cell_type": "code",
   "execution_count": null,
   "id": "9211fba8-5ecd-463b-af08-a53d31225616",
   "metadata": {},
   "outputs": [],
   "source": [
    "basic_auth = base64.b64encode(f\"{username}:{password}\".encode()).decode()\n",
    "\n",
    "headers = {\n",
    "    \"X-Authorization\": authorization,\n",
    "    \"Authorization\": f'Basic {basic_auth}',\n",
    "}\n",
    "\n",
    "with open(path, \"rb\") as data:\n",
    "    md5 = hashlib.md5(data.read()).hexdigest()\n",
    "    data.seek(0)\n",
    "    \n",
    "    file_headers = {\n",
    "        \"Content-MD5\": md5,\n",
    "        \"Content-Disposition\": f\"attachment; filename={os.path.basename(path)}\",\n",
    "        \"Content-Type\": 'application/zip',\n",
    "        \"Content-Length\": os.path.getsize(path)\n",
    "    }\n",
    "    \n",
    "    headers[\"Content-MD5\"] = md5\n",
    "    request = urllib.request.Request(url=url, data=data, headers={**headers, **file_headers})\n",
    "    try:\n",
    "        response = urllib.request.urlopen(request)\n",
    "    except urllib.error.URLError as e:\n",
    "        logging.error(f\"Request failed: {e.reason}\")\n",
    "        \n",
    "xml = response.read().decode()\n",
    "root = ET.fromstring(xml) \n",
    "statement_url = root.find(\".//*[@rel='http://purl.org/net/sword/terms/statement']\").attrib[\"href\"]\n",
    "print(f\"Statement URL is: {statement_url}\")\n",
    "\n",
    "request = urllib.request.Request(url=statement_url, headers=headers)\n",
    "try:\n",
    "    response = urllib.request.urlopen(request)\n",
    "except urllib.error.URLError as e:\n",
    "    logging.error(f\"Request failed: {e.reason}\")\n",
    "\n",
    "print(response.read().decode())"
   ]
  }
 ],
 "metadata": {
  "kernelspec": {
   "display_name": "Python 3 (ipykernel)",
   "language": "python",
   "name": "python3"
  },
  "language_info": {
   "codemirror_mode": {
    "name": "ipython",
    "version": 3
   },
   "file_extension": ".py",
   "mimetype": "text/x-python",
   "name": "python",
   "nbconvert_exporter": "python",
   "pygments_lexer": "ipython3",
   "version": "3.7.10"
  }
 },
 "nbformat": 4,
 "nbformat_minor": 5
}
