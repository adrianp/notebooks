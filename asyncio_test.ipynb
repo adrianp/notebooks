{
 "cells": [
  {
   "cell_type": "code",
   "execution_count": 103,
   "id": "bb30e8d3-e675-4de9-87f2-af6ddf8d616b",
   "metadata": {},
   "outputs": [],
   "source": [
    "import asyncio\n",
    "import logging\n",
    "import random\n",
    "import urllib"
   ]
  },
  {
   "cell_type": "code",
   "execution_count": 104,
   "id": "4a7a130e-9d69-46cb-b4d8-81916e93d8bc",
   "metadata": {},
   "outputs": [],
   "source": [
    "async def get_url(url):\n",
    "    logging.info(f\"Getting {url}\")\n",
    "    response = urllib.request.urlopen(url)\n",
    "    to_sleep = random.randint(1,5)\n",
    "    logging.info(f\"For {url} I will sleep {to_sleep} seconds\")\n",
    "    await asyncio.sleep(to_sleep)\n",
    "    logging.info(f\"Finished {response.url}, status is {response.status}\")\n",
    "    return response"
   ]
  },
  {
   "cell_type": "code",
   "execution_count": 105,
   "id": "daf809e5-52b0-42e2-b58f-af26c30770db",
   "metadata": {},
   "outputs": [],
   "source": [
    "async def main():\n",
    "    results = await asyncio.gather(get_url(\"https://example.org\"), get_url(\"http://google.com\"), return_exceptions=True)\n",
    "    logging.info(results)"
   ]
  },
  {
   "cell_type": "code",
   "execution_count": 106,
   "id": "04f64534-c59e-4313-928a-c107f6ecca7b",
   "metadata": {},
   "outputs": [
    {
     "name": "stdout",
     "output_type": "stream",
     "text": [
      "2022-05-02 11:52:45 [INFO] root - Getting https://example.org\n",
      "2022-05-02 11:52:46 [INFO] root - For https://example.org I will sleep 3 seconds\n",
      "2022-05-02 11:52:46 [INFO] root - Getting http://google.com\n",
      "2022-05-02 11:52:47 [INFO] root - For http://google.com I will sleep 3 seconds\n",
      "2022-05-02 11:52:49 [INFO] root - Finished https://example.org, status is 200\n",
      "2022-05-02 11:52:50 [INFO] root - Finished http://www.google.com/, status is 200\n",
      "2022-05-02 11:52:50 [INFO] root - [<http.client.HTTPResponse object at 0x7fae68200590>, <http.client.HTTPResponse object at 0x7fae68184d50>]\n"
     ]
    }
   ],
   "source": [
    "await main()"
   ]
  },
  {
   "cell_type": "code",
   "execution_count": null,
   "id": "33732885-57aa-4741-8130-a086bef08055",
   "metadata": {},
   "outputs": [],
   "source": []
  }
 ],
 "metadata": {
  "kernelspec": {
   "display_name": "Python 3 (ipykernel)",
   "language": "python",
   "name": "python3"
  },
  "language_info": {
   "codemirror_mode": {
    "name": "ipython",
    "version": 3
   },
   "file_extension": ".py",
   "mimetype": "text/x-python",
   "name": "python",
   "nbconvert_exporter": "python",
   "pygments_lexer": "ipython3",
   "version": "3.7.10"
  }
 },
 "nbformat": 4,
 "nbformat_minor": 5
}
