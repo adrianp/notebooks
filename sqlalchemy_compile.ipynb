{
 "cells": [
  {
   "cell_type": "code",
   "execution_count": 18,
   "id": "6b8fdb06-957d-4a73-ba7a-2a925c5eac47",
   "metadata": {},
   "outputs": [
    {
     "name": "stdout",
     "output_type": "stream",
     "text": [
      "Requirement already satisfied: sqlalchemy in /home/tudor/.virtualenvs/jupyter/lib/python3.7/site-packages (1.4.35)\n",
      "Requirement already satisfied: importlib-metadata in /home/tudor/.virtualenvs/jupyter/lib/python3.7/site-packages (from sqlalchemy) (4.11.3)\n",
      "Requirement already satisfied: greenlet!=0.4.17 in /home/tudor/.virtualenvs/jupyter/lib/python3.7/site-packages (from sqlalchemy) (1.1.2)\n",
      "Requirement already satisfied: typing-extensions>=3.6.4 in /home/tudor/.virtualenvs/jupyter/lib/python3.7/site-packages (from importlib-metadata->sqlalchemy) (4.1.1)\n",
      "Requirement already satisfied: zipp>=0.5 in /home/tudor/.virtualenvs/jupyter/lib/python3.7/site-packages (from importlib-metadata->sqlalchemy) (3.8.0)\n",
      "\u001b[33mWARNING: You are using pip version 22.0.3; however, version 22.0.4 is available.\n",
      "You should consider upgrading via the '/home/tudor/.virtualenvs/jupyter/bin/python -m pip install --upgrade pip' command.\u001b[0m\u001b[33m\n",
      "\u001b[0m"
     ]
    }
   ],
   "source": [
    "import sys\n",
    "!{sys.executable} -m pip install sqlalchemy"
   ]
  },
  {
   "cell_type": "code",
   "execution_count": 20,
   "id": "a46ca36c-ad30-4afb-92ba-472d825420a9",
   "metadata": {},
   "outputs": [
    {
     "name": "stdout",
     "output_type": "stream",
     "text": [
      "SELECT * FROM my_table WHERE id=1;\n"
     ]
    }
   ],
   "source": [
    "from sqlalchemy.sql import text\n",
    "from sqlalchemy.dialects import mysql\n",
    "\n",
    "query = \"SELECT * FROM my_table WHERE id=:some_id;\"\n",
    "params = {\"some_id\": 1}\n",
    "\n",
    "statement = text(query).bindparams(**params)\n",
    "print(statement.compile(dialect=mysql.dialect(), compile_kwargs={\"literal_binds\": True}))"
   ]
  },
  {
   "cell_type": "code",
   "execution_count": null,
   "id": "6ae2750e-89fa-4650-b96d-04c073eacc61",
   "metadata": {},
   "outputs": [],
   "source": []
  },
  {
   "cell_type": "code",
   "execution_count": null,
   "id": "0d772544-7d90-449b-8090-56e75def2fe1",
   "metadata": {},
   "outputs": [],
   "source": []
  }
 ],
 "metadata": {
  "kernelspec": {
   "display_name": "Python 3 (ipykernel)",
   "language": "python",
   "name": "python3"
  },
  "language_info": {
   "codemirror_mode": {
    "name": "ipython",
    "version": 3
   },
   "file_extension": ".py",
   "mimetype": "text/x-python",
   "name": "python",
   "nbconvert_exporter": "python",
   "pygments_lexer": "ipython3",
   "version": "3.7.10"
  }
 },
 "nbformat": 4,
 "nbformat_minor": 5
}
