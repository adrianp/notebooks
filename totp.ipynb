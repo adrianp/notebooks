{
 "cells": [
  {
   "cell_type": "code",
   "execution_count": 21,
   "id": "4e35582e-a782-417a-a9ab-08f4fd3fe157",
   "metadata": {},
   "outputs": [
    {
     "name": "stdout",
     "output_type": "stream",
     "text": [
      "Requirement already satisfied: pyotp in /home/tudor/.virtualenvs/jupyter/lib/python3.7/site-packages (2.6.0)\n",
      "\u001b[33mWARNING: You are using pip version 22.0.3; however, version 22.0.4 is available.\n",
      "You should consider upgrading via the '/home/tudor/.virtualenvs/jupyter/bin/python -m pip install --upgrade pip' command.\u001b[0m\u001b[33m\n",
      "\u001b[0m"
     ]
    }
   ],
   "source": [
    "import sys\n",
    "!{sys.executable} -m pip install pyotp"
   ]
  },
  {
   "cell_type": "code",
   "execution_count": 22,
   "id": "2d1bdcd5-320b-4bc4-8e21-f2c8f4ffbad0",
   "metadata": {},
   "outputs": [],
   "source": [
    "import pyotp"
   ]
  },
  {
   "cell_type": "code",
   "execution_count": 23,
   "id": "0a8760e0-63f4-4f2a-833e-a5b7a252d46b",
   "metadata": {
    "tags": []
   },
   "outputs": [
    {
     "name": "stdout",
     "output_type": "stream",
     "text": [
      "otpauth://totp/Very%20Secure%20App:foo%40example.org?secret=JBSWY3DPEHPK3PXP&issuer=Very%20Secure%20App\n"
     ]
    }
   ],
   "source": [
    "secret = 'JBSWY3DPEHPK3PXP'\n",
    "uri = pyotp.totp.TOTP('JBSWY3DPEHPK3PXP').provisioning_uri(name='foo@example.org', issuer_name='Very Secure App')\n",
    "print(uri)"
   ]
  },
  {
   "cell_type": "markdown",
   "id": "57682133-68ae-4500-8286-410b21d934b3",
   "metadata": {},
   "source": [
    "Now generate a QR code using, for example, [this site](https://qrcode.tec-it.com/en) and load it in Google Authenticator. Verify generated codes below:"
   ]
  },
  {
   "cell_type": "code",
   "execution_count": 24,
   "id": "1914434f-8ad7-4022-b4ba-7ca244785b84",
   "metadata": {},
   "outputs": [
    {
     "data": {
      "text/plain": [
       "False"
      ]
     },
     "execution_count": 24,
     "metadata": {},
     "output_type": "execute_result"
    }
   ],
   "source": [
    "code = 123456\n",
    "\n",
    "totp = pyotp.TOTP(secret)\n",
    "totp.verify(code)"
   ]
  },
  {
   "cell_type": "code",
   "execution_count": null,
   "id": "97803f34-efc4-43a6-bebb-82df68e3c8b2",
   "metadata": {},
   "outputs": [],
   "source": []
  }
 ],
 "metadata": {
  "kernelspec": {
   "display_name": "Python 3 (ipykernel)",
   "language": "python",
   "name": "python3"
  },
  "language_info": {
   "codemirror_mode": {
    "name": "ipython",
    "version": 3
   },
   "file_extension": ".py",
   "mimetype": "text/x-python",
   "name": "python",
   "nbconvert_exporter": "python",
   "pygments_lexer": "ipython3",
   "version": "3.7.10"
  }
 },
 "nbformat": 4,
 "nbformat_minor": 5
}
