{
 "cells": [
  {
   "cell_type": "code",
   "execution_count": 50,
   "id": "1b232e3e-06d5-4a88-8858-1ebb98d6af67",
   "metadata": {},
   "outputs": [
    {
     "name": "stdout",
     "output_type": "stream",
     "text": [
      "Hello all!\n"
     ]
    }
   ],
   "source": [
    "world = \"all\"\n",
    "print(f\"Hello {world}!\")"
   ]
  },
  {
   "cell_type": "code",
   "execution_count": 51,
   "id": "5d1a8b9f",
   "metadata": {},
   "outputs": [
    {
     "data": {
      "text/html": [
       "<div id='mydiv'>Hello world</div>"
      ],
      "text/plain": [
       "<IPython.core.display.HTML object>"
      ]
     },
     "execution_count": 51,
     "metadata": {},
     "output_type": "execute_result"
    }
   ],
   "source": [
    "from IPython.core.display import HTML\n",
    "HTML(\"<div id='mydiv'>Hello world</div>\")"
   ]
  },
  {
   "cell_type": "code",
   "execution_count": 52,
   "id": "b0ec4a5f-532a-4839-ae83-935a7433e344",
   "metadata": {},
   "outputs": [
    {
     "data": {
      "application/javascript": [
       "\n",
       "const world = \"all\"\n",
       "console.log(`Hello ${world}!`)\n"
      ],
      "text/plain": [
       "<IPython.core.display.Javascript object>"
      ]
     },
     "metadata": {},
     "output_type": "display_data"
    }
   ],
   "source": [
    "%%javascript\n",
    "\n",
    "const world = \"all\"\n",
    "console.log(`Hello ${world}!`)"
   ]
  },
  {
   "cell_type": "code",
   "execution_count": 53,
   "id": "db1d8ee3-65dc-47c2-afcb-b8d07b031a7e",
   "metadata": {},
   "outputs": [
    {
     "data": {
      "application/javascript": [
       "    \n",
       "var script = document.createElement('script');\n",
       "script.type = 'text/javascript';\n",
       "script.src = '//d3js.org/d3.v7.min.js';\n",
       "document.head.appendChild(script);\n",
       "console.log(window.d3)\n"
      ],
      "text/plain": [
       "<IPython.core.display.Javascript object>"
      ]
     },
     "metadata": {},
     "output_type": "display_data"
    }
   ],
   "source": [
    "%%javascript\n",
    "    \n",
    "var script = document.createElement('script');\n",
    "script.type = 'text/javascript';\n",
    "script.src = '//d3js.org/d3.v7.min.js';\n",
    "document.head.appendChild(script);\n",
    "console.log(window.d3)"
   ]
  },
  {
   "cell_type": "code",
   "execution_count": 54,
   "id": "eb98fb3c",
   "metadata": {},
   "outputs": [
    {
     "data": {
      "application/javascript": [
       "\n",
       "    var svg = d3.select(element)\n",
       "        .append(\"svg\")\n",
       "        .attr(\"width\", 300)\n",
       "        .attr(\"height\", 300);    \n",
       "\n",
       "    svg.append(\"circle\")\n",
       "        .style(\"stroke\", \"gray\")\n",
       "        .style(\"fill\", \"cyan\")\n",
       "        .attr(\"r\", 130)\n",
       "        .attr(\"cx\", 150)\n",
       "        .attr(\"cy\", 150)\n",
       "        .transition()\n",
       "            .delay(50)\n",
       "            .duration(5000)  \n",
       "            .attr(\"r\", 10)\n",
       "            .attr(\"cx\", 150)\n",
       "            .style(\"fill\", \"blue\"); \n"
      ],
      "text/plain": [
       "<IPython.core.display.Javascript object>"
      ]
     },
     "execution_count": 54,
     "metadata": {},
     "output_type": "execute_result"
    }
   ],
   "source": [
    "from IPython.display import Javascript\n",
    "\n",
    "svg_script = \"\"\"\n",
    "    var svg = d3.select(element)\n",
    "        .append(\"svg\")\n",
    "        .attr(\"width\", 300)\n",
    "        .attr(\"height\", 300);    \n",
    "\n",
    "    svg.append(\"circle\")\n",
    "        .style(\"stroke\", \"gray\")\n",
    "        .style(\"fill\", \"cyan\")\n",
    "        .attr(\"r\", 130)\n",
    "        .attr(\"cx\", 150)\n",
    "        .attr(\"cy\", 150)\n",
    "        .transition()\n",
    "            .delay(50)\n",
    "            .duration(5000)  \n",
    "            .attr(\"r\", 10)\n",
    "            .attr(\"cx\", 150)\n",
    "            .style(\"fill\", \"blue\"); \n",
    "\"\"\"\n",
    "Javascript(svg_script)"
   ]
  },
  {
   "cell_type": "code",
   "execution_count": null,
   "id": "c6036ae0-6a4a-447b-b0c0-3d88f6c6969d",
   "metadata": {},
   "outputs": [],
   "source": []
  }
 ],
 "metadata": {
  "kernelspec": {
   "display_name": "Python 3 (ipykernel)",
   "language": "python",
   "name": "python3"
  },
  "language_info": {
   "codemirror_mode": {
    "name": "ipython",
    "version": 3
   },
   "file_extension": ".py",
   "mimetype": "text/x-python",
   "name": "python",
   "nbconvert_exporter": "python",
   "pygments_lexer": "ipython3",
   "version": "3.7.10"
  }
 },
 "nbformat": 4,
 "nbformat_minor": 5
}
